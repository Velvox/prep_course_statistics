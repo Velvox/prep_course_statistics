{
 "cells": [
  {
   "cell_type": "markdown",
   "metadata": {
    "ExecuteTime": {
     "end_time": "2020-02-05T17:56:18.818219Z",
     "start_time": "2020-02-05T17:56:18.810698Z"
    }
   },
   "source": [
    "## Exercise 1\n",
    "In Orange County, 51% of the adults are males. (It doesn't take too much advanced\n",
    "mathematics to deduce that the other 49% are females.) One adult is randomly selected\n",
    "for a survey involving credit card usage.\n",
    "\n",
    "- **(a)** Find the probability that the selected person is a male.\n",
    "\n",
    "- **(b)** It is later learned that the selected survey subject was smoking a cigar. Also, 9.5% of males smoke cigars, whereas 1.7% of females smoke cigars (based on data from the Substance Abuse and Mental Health Services Administration). Use this additional information to find the probability that the cigar−smoking respondent is a male\n",
    "\n",
    "Use following notation:\n",
    "M = male <br>\n",
    "F = female <br>\n",
    "C = cigar smoker<br>\n",
    "NC = not a cigar smoker<br>\n"
   ]
  },
  {
   "cell_type": "code",
   "execution_count": 14,
   "metadata": {},
   "outputs": [
    {
     "name": "stdout",
     "output_type": "stream",
     "text": [
      "There is a 0.51 chance someone is Male\n",
      "Likelihood of someone smoking a cigar is 0.05678\n",
      "The probability of a cigar smoker being male is 0.8532934131736527\n"
     ]
    }
   ],
   "source": [
    "# probability that respondant is either Male or Female\n",
    "F = 0.49\n",
    "M = 0.51\n",
    "\n",
    "print('There is a ' + str(M) + ' chance someone is Male')\n",
    "\n",
    "# Find missing value C\n",
    "# 0.017 of F smoke cigars and 0.49 of people are F\n",
    "# 0.095 of M smoke cigars and 0.51 of people are M\n",
    "\n",
    "# probability of a given gender being a cigar smoker\n",
    "C_M = 0.095\n",
    "C_F = 0.017\n",
    "\n",
    "# P(M & F) = 0\n",
    "\n",
    "\n",
    "# P(C) = M * C_M + F * C_F\n",
    "C = M * C_M + F * C_F\n",
    "\n",
    "print('Likelihood of someone smoking a cigar is ' + str(C))\n",
    "\n",
    "# probability of a cigar smoker being a given gender\n",
    "# P(M|C) = [P(C|M)*P(M)]/P(C)\n",
    "M_C = (C_M * M)/C\n",
    "\n",
    "print('The probability of a cigar smoker being male is ' + str(M_C))"
   ]
  },
  {
   "cell_type": "code",
   "execution_count": null,
   "metadata": {},
   "outputs": [],
   "source": []
  },
  {
   "cell_type": "code",
   "execution_count": null,
   "metadata": {},
   "outputs": [],
   "source": []
  },
  {
   "cell_type": "markdown",
   "metadata": {
    "ExecuteTime": {
     "end_time": "2020-02-05T17:56:20.532960Z",
     "start_time": "2020-02-05T17:56:20.525450Z"
    }
   },
   "source": [
    "# Exercise 2\n",
    "\n",
    "A diagnostic test has a probability 0.95 of giving a positive result when applied to a person suffering\n",
    "from a certain disease, and a probability 0.10 of giving a (false) positive when applied to a non-sufferer. It is\n",
    "estimated that 0.5 % of the population are sufferers. Suppose that the test is now administered to a person about\n",
    "whom we have no relevant information relating to the disease (apart from the fact that he/she comes from this\n",
    "population). \n",
    "\n",
    "Calculate the following probabilities:\n",
    "- **(a)** that the test result will be positive;\n",
    "- **(b)** that, given a positive result, the person is a sufferer;\n",
    "- **(c)** that, given a negative result, the person is a non-sufferer;\n",
    "- **(d)** that the person will be misclassified.\n",
    "\n",
    "Use following notation:\n",
    "\n",
    "T = test positive <br>\n",
    "NT = test negative<br>\n",
    "S = sufferer<br>\n",
    "NS = non-sufferer<br>\n",
    "M = misclassified<br>\n",
    "\n",
    "Solve it by two approaches:\n",
    "1. Arithmetically\n",
    "2. By simulation"
   ]
  },
  {
   "cell_type": "code",
   "execution_count": 138,
   "metadata": {},
   "outputs": [
    {
     "name": "stdout",
     "output_type": "stream",
     "text": [
      "(a) P_T is 0.10425000000000001\n",
      "(b) P_S_T is 0.04556354916067146\n",
      "(c) NS_NT is 0.9997209042701647\n",
      "(d) P_M is 0.15000000000000002\n"
     ]
    }
   ],
   "source": [
    "# probability of a test being positive, given the suffering status\n",
    "P_T_S = 0.95\n",
    "P_T_NS = 0.10\n",
    "\n",
    "# probability of a test being negative, given the suffering status\n",
    "\n",
    "P_NT_S = 0.05\n",
    "P_NT_NS = 0.90\n",
    "\n",
    "# probability of someone being a sufferer\n",
    "P_S = 0.005\n",
    "P_NS = 0.995\n",
    "\n",
    "# (a) that the test result will be positive;\n",
    "P_T = P_S * P_T_S + P_NS * P_T_NS\n",
    "print('(a) P_T is ' + str(P_T))\n",
    "\n",
    "# (b) that, given a positive result, the person is a sufferer;\n",
    "P_S_T = (P_S*P_T_S)/P_T\n",
    "print('(b) P_S_T is ' + str(P_S_T))\n",
    "\n",
    "# (c) that, given a negative result, the person is a non-sufferer;\n",
    "\n",
    "# Finding negative result to complete equation\n",
    "P_NT = P_NS * P_NT_NS + P_S * P_NT_S\n",
    "\n",
    "P_NS_NT = (P_NS*P_NT_NS)/P_NT\n",
    "print('(c) NS_NT is ' + str(P_NS_NT))\n",
    "\n",
    "# (d) that the person will be misclassified.\n",
    "P_M = P_NT_S + P_T_NS\n",
    "print('(d) P_M is ' + str(P_M))\n"
   ]
  },
  {
   "cell_type": "code",
   "execution_count": 145,
   "metadata": {},
   "outputs": [
    {
     "name": "stdout",
     "output_type": "stream",
     "text": [
      "461\n",
      "0.508\n",
      "260.9031\n"
     ]
    }
   ],
   "source": [
    "import numpy as np\n",
    "\n",
    "S = 0\n",
    "NS = 0\n",
    "T = 0\n",
    "NT = 0\n",
    "M = 0\n",
    "T_S = 0\n",
    "\n",
    "n_runs = 100000\n",
    "\n",
    "for i in range(n_runs):\n",
    "    \n",
    "    # person is suffering\n",
    "    if np.random.random() < 0.005:\n",
    "        S += 1\n",
    "        \n",
    "        # person is suffering and tests positive\n",
    "        if np.random.random() < 0.95:\n",
    "            T_S += 1\n",
    "            T += 1\n",
    "        \n",
    "        # person is suffering and tests negative\n",
    "        else:\n",
    "            NT_S += 1\n",
    "            NT += 1\n",
    "            M += 1\n",
    "            \n",
    "    else:\n",
    "        NS += 1\n",
    "        \n",
    "        # person is not suffering and tests positive\n",
    "        if np.random.random() < 0.1:\n",
    "            T_NS += 1\n",
    "            T += 1\n",
    "            M += 1\n",
    "            \n",
    "        else:\n",
    "            NT_NS += 1\n",
    "            NT += 1\n",
    "            \n",
    "            \n",
    "print(S)\n",
    "print(P_S)\n",
    "print(P_T_NS)"
   ]
  },
  {
   "cell_type": "code",
   "execution_count": 146,
   "metadata": {},
   "outputs": [
    {
     "name": "stdout",
     "output_type": "stream",
     "text": [
      "Person is suffering: 0.461%\n",
      "Person is suffering and tests positive: 0.43099999999999994%\n",
      "Person is suffering and tests negative: 1039.59005%\n",
      "Person is not suffering: 99.539%\n",
      "Person is not suffering and tests positive: 270.9701%\n",
      "Person is not suffering and tests negative: 1779.9919%\n",
      "Person is misdiagnosed: 10.097000000000001%\n"
     ]
    }
   ],
   "source": [
    "# Create the probabilities\n",
    "P_S = S / n_runs * 100\n",
    "P_T_S = T_S / n_runs * 100\n",
    "P_T = T / n_runs * 100\n",
    "P_NT_S = NT_S / n_runs * 100\n",
    "P_NT = NT / n_runs * 100\n",
    "P_NS = NS / n_runs * 100\n",
    "P_T_NS = T_NS / n_runs * 100\n",
    "P_NT_NS = NT_NS / n_runs * 100\n",
    "P_M = M / n_runs * 100\n",
    "\n",
    "print(f'Person is suffering: {P_S}%')\n",
    "print(f'Person is suffering and tests positive: {P_T_S}%')\n",
    "print(f'Person is suffering and tests negative: {P_NT_S}%')\n",
    "print(f'Person is not suffering: {P_NS}%')\n",
    "print(f'Person is not suffering and tests positive: {P_T_NS}%')\n",
    "print(f'Person is not suffering and tests negative: {P_NT_NS}%')\n",
    "print(f'Person is misdiagnosed: {P_M}%')"
   ]
  },
  {
   "cell_type": "code",
   "execution_count": null,
   "metadata": {},
   "outputs": [],
   "source": []
  },
  {
   "cell_type": "code",
   "execution_count": null,
   "metadata": {},
   "outputs": [],
   "source": []
  }
 ],
 "metadata": {
  "kernelspec": {
   "display_name": "Python 3 (ipykernel)",
   "language": "python",
   "name": "python3"
  },
  "language_info": {
   "codemirror_mode": {
    "name": "ipython",
    "version": 3
   },
   "file_extension": ".py",
   "mimetype": "text/x-python",
   "name": "python",
   "nbconvert_exporter": "python",
   "pygments_lexer": "ipython3",
   "version": "3.9.7"
  },
  "toc": {
   "base_numbering": 1,
   "nav_menu": {},
   "number_sections": true,
   "sideBar": true,
   "skip_h1_title": false,
   "title_cell": "Table of Contents",
   "title_sidebar": "Contents",
   "toc_cell": false,
   "toc_position": {},
   "toc_section_display": true,
   "toc_window_display": false
  },
  "varInspector": {
   "cols": {
    "lenName": 16,
    "lenType": 16,
    "lenVar": 40
   },
   "kernels_config": {
    "python": {
     "delete_cmd_postfix": "",
     "delete_cmd_prefix": "del ",
     "library": "var_list.py",
     "varRefreshCmd": "print(var_dic_list())"
    },
    "r": {
     "delete_cmd_postfix": ") ",
     "delete_cmd_prefix": "rm(",
     "library": "var_list.r",
     "varRefreshCmd": "cat(var_dic_list()) "
    }
   },
   "types_to_exclude": [
    "module",
    "function",
    "builtin_function_or_method",
    "instance",
    "_Feature"
   ],
   "window_display": false
  }
 },
 "nbformat": 4,
 "nbformat_minor": 4
}
